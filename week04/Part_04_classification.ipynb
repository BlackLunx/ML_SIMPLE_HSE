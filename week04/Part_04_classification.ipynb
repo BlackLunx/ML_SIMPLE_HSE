{
 "cells": [
  {
   "cell_type": "markdown",
   "metadata": {
    "id": "begIKlTyB2sV"
   },
   "source": [
    "# Задачи классификации\n",
    "\n",
    "Задача классифификации (classification) - метод обучения с учителем (supervised)\n",
    "\n",
    "Классификация - задача для алгоритмов машинного обучения восстановить на объектах обучающей выборки **метки классов**. Классы - конечный (дискретный) набор целевых переменных. Например, в задаче фильтрации спама два класса: спам (метка $1$) и не спам (метка $0$)\n",
    "\n",
    "Классификация бывает бинарная (когда классов всего два: $0$ и $1$) и мультиклассовая, когда классов несколько. Если научились классифицировать на два класса, то и на несколько получиться: метод One vs All."
   ]
  },
  {
   "cell_type": "markdown",
   "metadata": {
    "id": "ByIHKBSaD6RM"
   },
   "source": [
    "Подключаемся к гугл драйв"
   ]
  },
  {
   "cell_type": "code",
   "execution_count": 6,
   "metadata": {
    "colab": {
     "base_uri": "https://localhost:8080/"
    },
    "id": "KnDYDutsBwXS",
    "outputId": "4db22e14-1082-44a0-e759-5cb7b128f4c4"
   },
   "outputs": [
    {
     "name": "stderr",
     "output_type": "stream",
     "text": [
      "2023-03-11 13:13:14,407 : INFO : Инициализировали логгер\n"
     ]
    }
   ],
   "source": [
    "import logging\n",
    "import os\n",
    "import shutil \n",
    "\n",
    "import numpy as np\n",
    "# from google.colab import drive\n",
    "\n",
    "RANDOM_SEED = 42\n",
    "np.random.seed(RANDOM_SEED)  # гарантируем воспроизводимость\n",
    "\n",
    "logging.getLogger().setLevel(logging.INFO)\n",
    "logging.basicConfig(format='%(asctime)s : %(levelname)s : %(message)s', level=logging.INFO)\n",
    "logger = logging.getLogger(__name__)\n",
    "logger.info('Инициализировали логгер')\n",
    "\n",
    "# ROOT_DIR = '/content/drive' \n",
    "# drive.mount(ROOT_DIR)\n",
    "# logger.info('Подключили диск')\n",
    "\n",
    "# root_data_dir = os.path.join(ROOT_DIR, 'MyDrive', 'ml-compling-2022-hse', 'data')\n",
    "# if not os.path.exists(root_data_dir):\n",
    "#     raise RuntimeError('Отсутствует директория с данными')\n",
    "# else:\n",
    "#     logger.info('Содержимое директории %s: %s', root_data_dir, os.listdir(root_data_dir))"
   ]
  },
  {
   "cell_type": "markdown",
   "metadata": {
    "id": "ls5L2Xb-EG7P"
   },
   "source": [
    "Загружаем данные - у нас будет новый датасет с задачей классификации"
   ]
  },
  {
   "cell_type": "code",
   "execution_count": 7,
   "metadata": {
    "colab": {
     "base_uri": "https://localhost:8080/",
     "height": 206
    },
    "id": "rkNpxXLwB23h",
    "outputId": "e83ec8f1-9d88-47f0-9e43-c782804fc9cc"
   },
   "outputs": [
    {
     "data": {
      "text/html": [
       "<div>\n",
       "<style scoped>\n",
       "    .dataframe tbody tr th:only-of-type {\n",
       "        vertical-align: middle;\n",
       "    }\n",
       "\n",
       "    .dataframe tbody tr th {\n",
       "        vertical-align: top;\n",
       "    }\n",
       "\n",
       "    .dataframe thead th {\n",
       "        text-align: right;\n",
       "    }\n",
       "</style>\n",
       "<table border=\"1\" class=\"dataframe\">\n",
       "  <thead>\n",
       "    <tr style=\"text-align: right;\">\n",
       "      <th></th>\n",
       "      <th>call_diff</th>\n",
       "      <th>sms_diff</th>\n",
       "      <th>traffic_diff</th>\n",
       "      <th>customes_class</th>\n",
       "    </tr>\n",
       "  </thead>\n",
       "  <tbody>\n",
       "    <tr>\n",
       "      <th>0</th>\n",
       "      <td>-0.666421</td>\n",
       "      <td>0.444911</td>\n",
       "      <td>-0.273538</td>\n",
       "      <td>0</td>\n",
       "    </tr>\n",
       "    <tr>\n",
       "      <th>1</th>\n",
       "      <td>-0.889273</td>\n",
       "      <td>-0.537896</td>\n",
       "      <td>-1.959469</td>\n",
       "      <td>2</td>\n",
       "    </tr>\n",
       "    <tr>\n",
       "      <th>2</th>\n",
       "      <td>-0.841503</td>\n",
       "      <td>0.846665</td>\n",
       "      <td>0.727606</td>\n",
       "      <td>0</td>\n",
       "    </tr>\n",
       "    <tr>\n",
       "      <th>3</th>\n",
       "      <td>1.389749</td>\n",
       "      <td>0.390911</td>\n",
       "      <td>1.789246</td>\n",
       "      <td>1</td>\n",
       "    </tr>\n",
       "    <tr>\n",
       "      <th>4</th>\n",
       "      <td>-1.228211</td>\n",
       "      <td>-1.375899</td>\n",
       "      <td>-1.434209</td>\n",
       "      <td>2</td>\n",
       "    </tr>\n",
       "  </tbody>\n",
       "</table>\n",
       "</div>"
      ],
      "text/plain": [
       "   call_diff  sms_diff  traffic_diff  customes_class\n",
       "0  -0.666421  0.444911     -0.273538               0\n",
       "1  -0.889273 -0.537896     -1.959469               2\n",
       "2  -0.841503  0.846665      0.727606               0\n",
       "3   1.389749  0.390911      1.789246               1\n",
       "4  -1.228211 -1.375899     -1.434209               2"
      ]
     },
     "execution_count": 7,
     "metadata": {},
     "output_type": "execute_result"
    }
   ],
   "source": [
    "import os\n",
    "\n",
    "import numpy as np\n",
    "import pandas as pd\n",
    "root_data_dir = './'\n",
    "raw_data_file = os.path.join(root_data_dir, 'client_segmentation.csv')\n",
    "\n",
    "# задаём типизацию колонок чтобы память экономить\n",
    "df_source = pd.read_csv(\n",
    "    raw_data_file, sep=',',\n",
    "    dtype={\n",
    "        'call_diff': np.float32,\n",
    "        'call_diff': np.float32,\n",
    "        'traffic_diff': np.float32,\n",
    "        'customes_class': np.uint16\n",
    "    }\n",
    ")\n",
    "\n",
    "df_source.head(5)"
   ]
  },
  {
   "cell_type": "markdown",
   "metadata": {
    "id": "8yHuOacoGh32"
   },
   "source": [
    "В файле `client_segmentation.csv` содержатся данные по оттоку: информация по клиентам оператора связи о том, как изменилось потребление услуг оператора за два месяца:\n",
    "* call_diff доля звонков\n",
    "* sms_diff доля смс\n",
    "* доля интернет-трафика traffic_diff\n",
    "\n",
    "Значение отрицательное - показатель снизился. Значение превосходит по модулю единицу - потребление кратно выросло. \n",
    "\n",
    "Все показатели вычисляются по формуле\n",
    "\n",
    "$$\n",
    "\\frac{\\text{new_value}-\\text{old_value}}{\\text{old_value}}\n",
    "$$\n",
    "\n",
    "Посмотрим на распределение какой-нибудь фичи, например `sms_diff`"
   ]
  },
  {
   "cell_type": "code",
   "execution_count": 8,
   "metadata": {
    "colab": {
     "base_uri": "https://localhost:8080/",
     "height": 283
    },
    "id": "-fv4JPUEMQvM",
    "outputId": "10a7e931-04ca-4153-eba3-7952608e63bd"
   },
   "outputs": [
    {
     "data": {
      "text/plain": [
       "<AxesSubplot:>"
      ]
     },
     "execution_count": 8,
     "metadata": {},
     "output_type": "execute_result"
    },
    {
     "data": {
      "image/png": "[encoded data removed]",
      "text/plain": [
       "<Figure size 432x288 with 1 Axes>"
      ]
     },
     "metadata": {
      "needs_background": "light"
     },
     "output_type": "display_data"
    }
   ],
   "source": [
    "df_source.sms_diff.hist(bins=8)"
   ]
  },
  {
   "cell_type": "markdown",
   "metadata": {
    "id": "bRVSDIg-MI0A"
   },
   "source": [
    "В последней колонке `customes_class` содержится метка по оттоку:\n",
    "* $0$ - активный пользователь\n",
    "* $1$ - \"спящий\" пользователь (редко пользуется услугами)\n",
    "* $2$ - пользователь, который ушел в отток\n",
    "\n",
    "Это наша целевая переменная, хотим её предсказывать"
   ]
  },
  {
   "cell_type": "code",
   "execution_count": 9,
   "metadata": {
    "colab": {
     "base_uri": "https://localhost:8080/"
    },
    "id": "0s9CvHRQFTRt",
    "outputId": "35f35e54-2607-4520-a963-6e9ba4e14b6b"
   },
   "outputs": [
    {
     "name": "stderr",
     "output_type": "stream",
     "text": [
      "2023-03-11 13:13:18,511 : INFO : num train samples 100\n"
     ]
    },
    {
     "data": {
      "text/plain": [
       "0    0.34\n",
       "2    0.33\n",
       "1    0.33\n",
       "Name: customes_class, dtype: float64"
      ]
     },
     "execution_count": 9,
     "metadata": {},
     "output_type": "execute_result"
    }
   ],
   "source": [
    "logger.info('num train samples %d', df_source.shape[0])\n",
    "df_source.customes_class.value_counts(normalize=True)"
   ]
  },
  {
   "cell_type": "markdown",
   "metadata": {
    "id": "WfH-kDYzOxOg"
   },
   "source": [
    "Видим, что у нас примерно одинакоково представлены все классы. Ситуация, когда один класс представлен слишком сильно и ли наоборот слишком слабо в выборке называется \"дисбаланс классов\". \n",
    "\n",
    "Есть два основных приёма решения проблемы дисбаланса\n",
    "* undersampling доминирующего класса\n",
    "* oversampling класса с меньшим числом элементов"
   ]
  },
  {
   "cell_type": "markdown",
   "metadata": {
    "id": "TBjQdIrE-eCP"
   },
   "source": [
    "Важный момент: дальше мы будем решать задачу классификации на 2 класса\n",
    "\n",
    "Для этого искусственно разделим класс `2` между классами `0` и `1`"
   ]
  },
  {
   "cell_type": "code",
   "execution_count": 10,
   "metadata": {
    "id": "OYG0dhnb-ePE"
   },
   "outputs": [],
   "source": [
    "df_source[(df_source.customes_class==2) & (df_source.call_diff>1.1)] = 0\n",
    "df_source[(df_source.customes_class==2) & (df_source.call_diff<=1.1)] = 1\n",
    "\n",
    "X = df_source[['call_diff','sms_diff','traffic_diff']].values\n",
    "y = df_source.customes_class.values"
   ]
  },
  {
   "cell_type": "markdown",
   "metadata": {
    "id": "24t9UyIHWYq0"
   },
   "source": [
    "# Naive Bayes\n",
    "\n",
    "Попробуем для решения задачи использовать классификатор \"из коробки\": воспользуемся  [наивным Байесовским классификатором](https://scikit-learn.org/stable/modules/naive_bayes.html). Кстати, реализация содержит функцию `.partial_fit()` с которой мы уже встречались! Вспомните где именно.\n",
    "\n",
    "Этот классификатор основан на частотах встречаемости фичей. У нас фичи непрерывные, так что вместо частот будем использовать вероятности.\n",
    "\n",
    "Классификатор очень быстро обучается, т.к. по сути нам нужно просто посчитать разные статистики по выборке - никакого градиентного спуска тут нет."
   ]
  },
  {
   "cell_type": "markdown",
   "metadata": {
    "id": "sdTe9oROb29N"
   },
   "source": [
    "Пусть $c$ - класс объекта (у нас три класса) тогда мы берём объект и предсказываем вероятности по формуле Байеса для всех трёх классов, а класс объекту присваиваем тот, у которого максимальная вероятность - это называется Maximum a posteriori (MAP) estimation, метод максимальной апостериорной вероятност (потому что формула Байеса для вычисляет апостериорную вероятност гипотезы) \n",
    "\n",
    "$$\n",
    "c_{MAP} = \\arg \\max_{\\substack{c \\in C}}P(c \\mid X) = \\arg \\max_{\\substack{c \\in C}}\\frac{P(c)P(X\\mid c)}{P(X)}\n",
    "$$\n",
    "\n",
    "В формуле\n",
    "* P(c) - вероятность класса, его встречаемость\n",
    "* P(X|c) - вероятность встретить объект с конкретными фичами в конкретном классе, то есть насколько объект объект ожидаем встретить в классе $c$\n",
    "* P(X) - распределение данных. Т.к. мы ищем максимум по всем $c$, а знаменатель от C не зависит, то его вообще можно не учитывать\n",
    "\n",
    "Для начала вычислим априорные вероятности классов $P(c)$"
   ]
  },
  {
   "cell_type": "code",
   "execution_count": 11,
   "metadata": {
    "colab": {
     "base_uri": "https://localhost:8080/"
    },
    "id": "A93ouFqxkqiI",
    "outputId": "89dd2208-507f-4fd1-adbe-d0a128054384"
   },
   "outputs": [
    {
     "name": "stdout",
     "output_type": "stream",
     "text": [
      "Counter({1: 66, 0: 34})\n",
      "{0: 0.34, 1: 0.66}\n"
     ]
    }
   ],
   "source": [
    "from collections import Counter\n",
    "\n",
    "num_samples = df_source.shape[0]  # число объектов\n",
    "prior_class_counts = Counter(y)  # группируем по классу и считаем колияество объектов каждого класса\n",
    "prior_class_probs = dict() # тут будем хранить  априорные вероятности классов\n",
    "print(prior_class_counts)\n",
    "for class_label in prior_class_counts:\n",
    "    prior_class_probs[class_label] = prior_class_counts[class_label] / num_samples\n",
    "print(prior_class_probs)"
   ]
  },
  {
   "cell_type": "markdown",
   "metadata": {
    "id": "TF79r5QQmB6u"
   },
   "source": [
    "Как посчитать $P(X\\mid c)$? Каждый объект $x \\in X$ состоит из фичей, это вектор $x = [x_1, \\ldots, n_n ]$, в нашем случае это из три элементов (у нас три фичи). Классификатор называется *наивным*, потому что мы делаем предположение о независимости фичей - в этом случае совместное распределение можно расписать через произведение маргинальных распределений\n",
    "\n",
    "$$\n",
    "P(X\\mid c) = P(x_1\\ldots x_n\\mid c) = P(x_1 \\mid c)\\cdot \\ldots \\cdot P(x_n\\mid c) = \\prod_{i=1}^nP(x_i\\mid c)\n",
    "$$\n",
    "\n",
    "Небольшое преобразование: т.к. ищем максимум то можем применить логарифм чтобы перейти от произведения к сумме (т.к. логарифм фозрастающая функция и на точку максимума не вилияет\n",
    "\n",
    "$$\n",
    "\\ln P(X\\mid c) = \\ln\\prod_{i=1}^nP(x_i\\mid c) = \\sum_{i=1}^n\\log P(x_i\\mid c)\n",
    "$$\n",
    "\n",
    "Как для конкретной фичи $x_i$ найти $P(x_i\\mid c)$? Для непрерывной фичи придётся ввести предположение о том, что фича имеет гауссовское распределение, то есть \n",
    "\n",
    "$$\n",
    "P(x_i\\mid c) = \\frac{1}{\\sqrt{2\\pi \\sigma^2_{x|c}}}\\exp\\left(-\\frac{(x - \\mu_{x|c})^2}{2\\sigma^2_{x|c}}\\right)\n",
    "$$\n",
    "\n",
    "Где $\\sigma_{x|c}$ - СКО фичи $x$ для класса $c$, $\\mu_{x|c}$ - МО фичи $x$ для класса $c$. Это параметры гауссовского распределения - их мы оценим по выборке.\n",
    "\n",
    "Алгоритм оценки параметров следующий:\n",
    "* берём класс $c$\n",
    "* оставляем в датасете только примеры этого класса $c$\n",
    "* вычисляем $\\sigma_{x|c}$ и $\\mu_{x|c}$\n",
    "\n",
    "В результате получим словарь, где ключ - имя фичи, а значение - вложенный словарь, где ключ - метка класса, а значение - параметры гауссовского распределения фичи этом классе, то есть получаем структуру вида \n",
    "```python\n",
    "{\n",
    "  class_1: {mu: some_value, sigma: some_value},\n",
    "  class_2: {mu: some_value, sigma: some_value},\n",
    "  class_3: {mu: some_value, sigma: some_value}\n",
    "}\n",
    "```\n",
    "\n",
    "Работать будем с `pandas.DataFrame` чтобы упростить фильтрацию и подсчёт статистик"
   ]
  },
  {
   "cell_type": "code",
   "execution_count": 12,
   "metadata": {
    "colab": {
     "base_uri": "https://localhost:8080/"
    },
    "id": "A-ppCrOZDeix",
    "outputId": "21b09004-8390-47db-a4df-4ff1787ab7d7"
   },
   "outputs": [
    {
     "name": "stdout",
     "output_type": "stream",
     "text": [
      "call_diff\n"
     ]
    },
    {
     "data": {
      "text/plain": [
       "{0: {'mu': -1.0015249, 'sigma': 0.74156827},\n",
       " 1: {'mu': 1.1297727, 'sigma': 0.44200704}}"
      ]
     },
     "execution_count": 12,
     "metadata": {},
     "output_type": "execute_result"
    }
   ],
   "source": [
    "from collections import defaultdict\n",
    "\n",
    "target_col = 'customes_class'\n",
    "feature_names = ['call_diff','sms_diff','traffic_diff']\n",
    "\n",
    "feature_proba_param = defaultdict(dict)\n",
    "for col in feature_names:  # цикл по фичам\n",
    "    for class_id in prior_class_probs:  # цикл по классам\n",
    "        feature_values = df_source[df_source[target_col]==class_id][col]  # отфильтруем фичу по классу\n",
    "        feature_proba_param[col][class_id] = {\n",
    "            'mu': feature_values.mean(), \n",
    "            'sigma': feature_values.std()\n",
    "        }\n",
    "# посмотрим распределение статистике по конкретной фиче\n",
    "feature_example = 'call_diff'\n",
    "print(feature_example)\n",
    "feature_proba_param[feature_example]"
   ]
  },
  {
   "cell_type": "markdown",
   "metadata": {
    "id": "_Olp_nmJWc4w"
   },
   "source": [
    "По сути мы нашли  параметры распределения - можем посчитать вероятности классов\n",
    "\n",
    "Теперь можем построить алгоритм предсказания с помощью MAP\n",
    "* для объекта $x$ считаем $P(c_1 | X), P(c_2 | X), P(c_3 | X)$\n",
    "* выбираем максимальную вероятность - это и будет наше предсказание\n",
    "\n",
    "время познакомится с библиотекой [scipy](https://docs.scipy.org/) - оттуда возьмём реализацию $P(X | c)$ для [распределения гаусса](https://docs.scipy.org/doc/scipy/reference/generated/scipy.stats.norm.html)"
   ]
  },
  {
   "cell_type": "code",
   "execution_count": 13,
   "metadata": {
    "colab": {
     "base_uri": "https://localhost:8080/"
    },
    "id": "zkIb6pW5cdWe",
    "outputId": "d73b2b33-309d-44d2-d5f4-d5568969c22a"
   },
   "outputs": [
    {
     "name": "stderr",
     "output_type": "stream",
     "text": [
      "2023-03-11 13:14:21,629 : INFO : Предсказания построены, accuracy = 0.67\n"
     ]
    }
   ],
   "source": [
    "from scipy.stats import norm\n",
    "\n",
    "\n",
    "def eval_bayes(row):\n",
    "    log_classes_probas = defaultdict(float)  # т.к. нужно собирать сумму из разных фичей\n",
    "    for feature in feature_names:\n",
    "        feature_params = feature_proba_param[feature]  # извлекаем параметры распределения фичи (там три класса)\n",
    "    for class_id in feature_params:  # считаем априорную вероятность получить такое значение фичи в каждом классе\n",
    "        feature_class_params = feature_params[class_id]  # достаём параметры распределения (mu, sigma), которые посчитали на предыдущем шаге\n",
    "        feature_class_proba = norm.pdf(\n",
    "            row[feature],\n",
    "            loc=feature_class_params['mu'], scale=feature_class_params['sigma']\n",
    "        )\n",
    "      # вероятность в интервале [0, 1] - там отрицательные значения логарифма\n",
    "        log_classes_probas[class_id] += np.log(feature_class_proba)\n",
    "    sorted_log_classes_probas = sorted(log_classes_probas.items(), key = lambda x: x[1], reverse=True)\n",
    "    predicted_class, predicted_class_proba = sorted_log_classes_probas[0]\n",
    "    return predicted_class, predicted_class_proba\n",
    "\n",
    "def predict(input_df):\n",
    "    res = []\n",
    "    for _, row in input_df.iterrows():\n",
    "        class_label, _ = eval_bayes(row)\n",
    "        res.append(class_label)\n",
    "    return res\n",
    "\n",
    "def predict_proba(input_df):\n",
    "    res = []\n",
    "    for _, row in input_df.iterrows():\n",
    "        _, class_proba = eval_bayes(row)\n",
    "        res.append(class_proba)\n",
    "    return res\n",
    "\n",
    "# predict_proba(df_source[feature_names].head(1))\n",
    "predicted_classes = predict(df_source[feature_names])\n",
    "accuracy = (predicted_classes == y).sum() / len(y)\n",
    "logger.info('Предсказания построены, accuracy = %.2f', accuracy)"
   ]
  },
  {
   "cell_type": "markdown",
   "metadata": {
    "id": "VKEYoSZTJ3Nn"
   },
   "source": [
    "Проверим точность классификатора в реализации sklearn"
   ]
  },
  {
   "cell_type": "code",
   "execution_count": 14,
   "metadata": {
    "colab": {
     "base_uri": "https://localhost:8080/"
    },
    "id": "UkfYulXpJ4xR",
    "outputId": "2d62132d-18df-4ad9-b263-9a23a62d0f8d"
   },
   "outputs": [
    {
     "name": "stderr",
     "output_type": "stream",
     "text": [
      "2023-03-11 13:14:25,120 : INFO : Предсказания построены, accuracy = 0.97\n"
     ]
    }
   ],
   "source": [
    "from sklearn.naive_bayes import GaussianNB\n",
    "\n",
    "naive_bayes = GaussianNB() # создаём экземпляр класса\n",
    "naive_bayes.fit(X, y) # обучение модели\n",
    "predicted_classes = naive_bayes.predict(X) # предсказание (эксплуатация модели)\n",
    "\n",
    "accuracy = (predicted_classes == y).sum() / len(y)\n",
    "\n",
    "logger.info('Предсказания построены, accuracy = %.2f', accuracy)"
   ]
  },
  {
   "cell_type": "markdown",
   "metadata": {
    "id": "9wL9jMuT8uWM"
   },
   "source": [
    "Визуализируем confusion matrix"
   ]
  },
  {
   "cell_type": "code",
   "execution_count": 15,
   "metadata": {
    "colab": {
     "base_uri": "https://localhost:8080/",
     "height": 318
    },
    "id": "rc5zz3ft8uk7",
    "outputId": "8bb75005-192f-4c74-e730-80676a4f28fe"
   },
   "outputs": [
    {
     "name": "stdout",
     "output_type": "stream",
     "text": [
      "Кoличество объектов в тестовой выборке: 33\n"
     ]
    },
    {
     "data": {
      "image/png": "[encoded data removed]",
      "text/plain": [
       "<Figure size 432x288 with 2 Axes>"
      ]
     },
     "metadata": {
      "needs_background": "light"
     },
     "output_type": "display_data"
    }
   ],
   "source": [
    "from matplotlib import pyplot as plt\n",
    "\n",
    "from sklearn.metrics import confusion_matrix\n",
    "from sklearn.model_selection import train_test_split\n",
    "import itertools\n",
    "\n",
    "# сводим задачу к бинарной классификации\n",
    "# df_source = pd.read_csv(\n",
    "#     'data/client_segmentation.csv', \n",
    "#     dtype={'call_diff': np.float32, 'call_diff': np.float32, 'traffic_diff': np.float32, 'customes_class': np.uint16}\n",
    "# )\n",
    "\n",
    "X = df_source[['call_diff','sms_diff','traffic_diff']].values\n",
    "y = df_source.customes_class.values\n",
    "\n",
    "def plot_confusion_matrix(cm, classes,\n",
    "                          title='Confusion matrix',\n",
    "                          cmap=plt.cm.Blues):\n",
    "    \"\"\"\n",
    "    This function prints and plots the confusion matrix.\n",
    "    Normalization can be applied by setting `normalize=True`.\n",
    "    \"\"\"\n",
    "    plt.imshow(cm, interpolation='nearest', cmap=cmap)\n",
    "    plt.title(title)\n",
    "    plt.colorbar()\n",
    "    tick_marks = np.arange(len(classes))\n",
    "    plt.xticks(tick_marks, classes, rotation=45)\n",
    "    plt.yticks(tick_marks, classes)\n",
    "\n",
    "    thresh = cm.max() / 2.\n",
    "    for i, j in itertools.product(range(cm.shape[0]), range(cm.shape[1])):\n",
    "        plt.text(j, i, cm[i, j],\n",
    "                 horizontalalignment=\"center\",\n",
    "                 color=\"white\" if cm[i, j] > thresh else \"black\")\n",
    "\n",
    "X_train, X_test, y_train, y_test = train_test_split(X, y, test_size=0.33, random_state=42)\n",
    "naive_bayes.fit(X_train, y_train)\n",
    "y_pred = naive_bayes.predict(X_test)\n",
    "\n",
    "conf_matrix = confusion_matrix(y_test, y_pred)\n",
    "plot_confusion_matrix(\n",
    "    conf_matrix,\n",
    "    classes=['active', 'churn'],\n",
    "    title='Confusion matrix, without normalization'\n",
    ")\n",
    "print(f'Кoличество объектов в тестовой выборке: {len(y_pred)}')"
   ]
  },
  {
   "cell_type": "markdown",
   "metadata": {
    "id": "AslEGRA8KnkP"
   },
   "source": []
  },
  {
   "cell_type": "markdown",
   "metadata": {
    "id": "01QfKZ0vHcSQ"
   },
   "source": [
    "Самостоятельное задание: постройте бейзлайн в виде рандомного предсказания классов. Выбор класса должен делаться случайным образом, но вероятность класса $1$ возьмите такую же, как в исходном датасете. "
   ]
  },
  {
   "cell_type": "code",
   "execution_count": 19,
   "metadata": {},
   "outputs": [
    {
     "data": {
      "text/plain": [
       "count    100.000000\n",
       "mean       0.660000\n",
       "std        0.476095\n",
       "min        0.000000\n",
       "25%        0.000000\n",
       "50%        1.000000\n",
       "75%        1.000000\n",
       "max        1.000000\n",
       "Name: customes_class, dtype: float64"
      ]
     },
     "execution_count": 19,
     "metadata": {},
     "output_type": "execute_result"
    }
   ],
   "source": [
    "df_source[target_col].describe()"
   ]
  },
  {
   "cell_type": "code",
   "execution_count": 35,
   "metadata": {
    "id": "7lFdOwB8HPLx"
   },
   "outputs": [
    {
     "name": "stderr",
     "output_type": "stream",
     "text": [
      "2023-03-11 13:30:54,528 : INFO : Предсказания построены, accuracy = 0.50\n"
     ]
    }
   ],
   "source": [
    "# --------- ВАШ КОД ТУТ --------\n",
    "\n",
    "def predict_baseline(df):\n",
    "    return np.random.choice([0, 1], len(df), [1 - 0,66, 0,66])\n",
    "\n",
    "predicted_classes = predict_baseline(X)\n",
    "accuracy = (predicted_classes == y).sum() / len(y)\n",
    "logger.info('Предсказания построены, accuracy = %.2f', accuracy)\n",
    "\n",
    "# --------------------------------"
   ]
  },
  {
   "cell_type": "code",
   "execution_count": 34,
   "metadata": {
    "colab": {
     "base_uri": "https://localhost:8080/",
     "height": 283
    },
    "id": "qgyDt1zPy1xx",
    "outputId": "04e02ae9-8ebd-4e18-cfba-d6c8ab5924b6"
   },
   "outputs": [
    {
     "data": {
      "text/plain": [
       "[<matplotlib.lines.Line2D at 0x1457506d0>]"
      ]
     },
     "execution_count": 34,
     "metadata": {},
     "output_type": "execute_result"
    },
    {
     "data": {
      "image/png": "[encoded data removed]",
      "text/plain": [
       "<Figure size 432x288 with 1 Axes>"
      ]
     },
     "metadata": {
      "needs_background": "light"
     },
     "output_type": "display_data"
    }
   ],
   "source": [
    "import numpy as np\n",
    "from matplotlib import pyplot as plt\n",
    "x_space = np.linspace(0.00001, 1, num=100)\n",
    "plt.plot(x_space, np.log(x_space))"
   ]
  },
  {
   "cell_type": "markdown",
   "metadata": {
    "id": "oKFo_vOjS9mo"
   },
   "source": [
    "# Logistic regression\n",
    "\n",
    "Другой интересный классификатор, для обучения которого уже применим градиентнй спуск - это логистическая регрессия\n",
    "\n",
    "Для понимания логистической регресси представим что у нас есть задача бинарной классификации, где два класса: класс $1$ (успех) и класс $0$ (неуспех), вероятность успеха обозначим $p$\n",
    "\n",
    "Шансы на успех (odds) - это отношение числа успехов  к числу неуспехов\n",
    "\n",
    "$$\n",
    "odds = \\frac{p}{1-p}\n",
    "$$\n",
    "\n",
    "В отличие от вероятности эта величина может быть как меньше единицы (если вероятность успеха меньше $0.5$) так и больше единицы (если вероятность успеха больше $0.5$). Термин шировко применяется в ставкав: допустим, мы выиграли в 15 играх из 100: в этом случае шансы на успех всего $\\frac{15}{85}=\\frac{3}{17}=0.17$ c другой стороны, если выиграть 60 игр из 100 то шансы на успех уже $\\frac{60}{40}=\\frac{3}{2}=1.5$\n"
   ]
  },
  {
   "cell_type": "markdown",
   "metadata": {
    "id": "04S9DExCbv2B"
   },
   "source": [
    "\n",
    "Теперь проведем небольшьшой трюк и логарифмируем наши шансы на успех\n",
    "\n",
    "$$\n",
    "\\log odds = \\log \\frac{p}{1-p}\n",
    "$$\n",
    "\n",
    "График логарифма мы строили ранее в этом семинаре: для значений от $0$ до $1$ получим отрицательные значения, выше - положительные\n",
    "\n",
    "Мы знаем, что линейная регрессия $\\hat{y} = w_0x_0 + \\ldots w_nx_n$ \"умеет\" предсказывать величины от $-\\infty$ до $\\infty$. Получается, мы по данным $X$ хотим предсказывать шансы на успех (как в ставках на спорт), например для конкретного объекта x у которого $n$ фичей:\n",
    "\n",
    "$$\n",
    "w_0x_0 + \\ldots w_nx_n = \\overline{w}x = \\log \\frac{p}{1-p}\n",
    "$$\n",
    "\n",
    "Превращаем логарифм в экспоненту\n",
    "$$\n",
    "\\exp(\\overline{w}x) = \\frac{p}{1-p}\n",
    "$$\n",
    "\n",
    "И окончательно выражаем вероятность успеха $p$ для конкретного объекта $x_i$:\n",
    "$$\n",
    "p_i = \\frac{1}{1+e^{-\\overline{w}x_i}}\n",
    "$$\n",
    "\n",
    "Функция $\\sigma (z) = \\frac{1}{1+e^{-z}}$ называеся *сигмоидой* - в курсе по нейросетям с сигмоидой вы встретитесь ещё не раз. Она обладает рядом интересных свойств, например $\\sigma (-z) = 1 - \\sigma (z)$"
   ]
  },
  {
   "cell_type": "markdown",
   "metadata": {
    "id": "ckxq2YSQMVCV"
   },
   "source": [
    "Дальше нужно подобрать оптимальные веса $w$. В задаче линейной регресси эмирический риск $Q_{\\text{emp}}$ мы считали как сумму квадратов отклонений предикта от таргета. Тут мы аналогично алгоритму наивного байеса воспользуемся достижениями из тервера и выпишем *правдоподобие данных* для выборки из распределения Бернулли (т.к. $y_i=0$ либо $y_i=1$ ) размера $N$:\n",
    "$$\n",
    "P(y | X, w) = \\prod_{i}^N p^{y_i}(1-p)^{1-y_i}\n",
    "$$\n",
    "Чтобы избавиться от произведения переходим к логарифмам (т.к. нам нужно найти точку максимума и логарифмирование на эту точку всё равно не повлияет)\n",
    "$$\n",
    "\\log P(y | X, w) = \\sum_{i}^{N} y_i \\log p_i + (1-y_i)\\log(1-p_i)\n",
    "$$\n",
    "\n",
    "Т.к. $p=\\sigma (z)$ и $\\sigma (-z) = 1 - \\sigma (z)$ то окончательно получаем\n",
    "$$\n",
    "\\log P(y | X, w) = \\sum_{i}^{N} y_i \\log \\sigma (z) + (1-y_i)\\log(\\sigma (-z))\n",
    "$$\n",
    "\n",
    "Правдоподобие нужно *максимизировать*, тогда функционал эмпирического риска, который мы минимизируем:\n",
    "$$\n",
    "L(y, X, w) = - \\sum_{i}^{N} y_i \\log \\sigma (z) + (1-y_i)\\log(\\sigma (-z))\n",
    "$$"
   ]
  },
  {
   "cell_type": "markdown",
   "metadata": {
    "id": "pZR5YBFVY9pX"
   },
   "source": [
    "Кстати, такая функция потерь называется \"бинарная кросс-энтропия\" или *BCE (binary crossemtropy loss)*. Аналитическое решение тут уже нельзя найти, зато отлично будет работать градиентный спуск, нужно только найти градиент функции потерь $L(Y, X, w)$\n",
    "\n",
    "$$\n",
    "\\nabla L = \\frac{1}{N}\\left(Y - \\hat{Y}\\right)\\cdot X\n",
    "$$\n",
    "\n",
    "Здесь $X$ - матрица объекты-признаки, а $\\hat{Y} = \\sigma(\\overline{w}x)$.одробнее про вывод этой формулы можно почитать в разделе про [логиcтическую регрессию](https://ml-handbook.ru/chapters/linear_models/intro) - только там не совсем правильно, т.к. нет усреднения ошибки.\n",
    "\n",
    "Можем реализовать на python (вот [тут](https://towardsdatascience.com/logistic-regression-from-scratch-in-python-ec66603592e2) подробнее и с картинками). Для начала сигмоиду"
   ]
  },
  {
   "cell_type": "code",
   "execution_count": 39,
   "metadata": {
    "colab": {
     "base_uri": "https://localhost:8080/"
    },
    "id": "Ldg_woQYiN8H",
    "outputId": "9fd9990e-ad87-420c-ce29-7f578bd95a13"
   },
   "outputs": [
    {
     "data": {
      "text/plain": [
       "array([0.73105858, 0.88079708, 0.95257413, 0.99330715])"
      ]
     },
     "execution_count": 39,
     "metadata": {},
     "output_type": "execute_result"
    }
   ],
   "source": [
    "def sigmoid(z):\n",
    "    return 1 / ( 1. + np.exp(-z))\n",
    "\n",
    "x = np.array([1, 2, 3, 5])\n",
    "sigmoid(x)"
   ]
  },
  {
   "cell_type": "markdown",
   "metadata": {
    "id": "mk7b8zAeiOJX"
   },
   "source": [
    "Далее собственно градиентный спуск"
   ]
  },
  {
   "cell_type": "code",
   "execution_count": 50,
   "metadata": {
    "id": "9EG8gKaOM359"
   },
   "outputs": [],
   "source": [
    "from scipy.spatial import distance\n",
    "import numpy as np\n",
    "import matplotlib.pyplot as plt\n",
    "%matplotlib inline\n",
    "\n",
    "def gradient(X, y, w, alpha=0) -> np.array:\n",
    "    \"\"\"Вычисляем градиент в точке\"\"\"\n",
    "    # количество обучающих примеров в выборке\n",
    "    n = X.shape[0]\n",
    "    # считаем прогноз\n",
    "    y_hat = sigmoid(X.dot(w.T))\n",
    "    # вычисляем ошибку прогноза\n",
    "    error = (y - y_hat).reshape(1, -1)\n",
    "    # дальше pointwise перемножение - умножаем каждую из координат на ошибку\n",
    "    grad = (-1.) * error.dot(X) / n\n",
    "    return grad, error\n",
    "\n",
    "def eval_w_next(X, y, eta, w_current):\n",
    "    \"\"\"Делаем шаг градиентного спуска\"\"\"\n",
    "    # вычисляем градиент\n",
    "    grad, error = gradient(X, y, w_current)\n",
    "    # делаем шаг градиентного спуска\n",
    "    w_next = w_current - eta*grad\n",
    "    # проверяем условие сходимости\n",
    "    weight_evolution = distance.euclidean(w_current.reshape(-1), w_next.reshape(-1))\n",
    "    return (w_next, weight_evolution, grad)"
   ]
  },
  {
   "cell_type": "markdown",
   "metadata": {
    "id": "1Q6wsAJEvh2P"
   },
   "source": [
    "Повторяем шаги до сходимости"
   ]
  },
  {
   "cell_type": "code",
   "execution_count": 57,
   "metadata": {
    "colab": {
     "base_uri": "https://localhost:8080/"
    },
    "id": "sOqZ7iXMvhV8",
    "outputId": "bdfcc529-56ba-48f4-fa69-efb5bee4532e"
   },
   "outputs": [
    {
     "name": "stdout",
     "output_type": "stream",
     "text": [
      "step 100 |w-w_next|=0.00219, grad=[[ 0.07867849 -0.20721122  0.07765528  0.14104154]]\n",
      "step 200 |w-w_next|=0.00173, grad=[[ 0.05041879 -0.17865288  0.04444851  0.10231242]]\n",
      "step 300 |w-w_next|=0.00144, grad=[[ 0.03274833 -0.1572934   0.02315197  0.07679291]]\n",
      "step 400 |w-w_next|=0.00124, grad=[[ 0.02193717 -0.14072913  0.0096909   0.06038507]]\n",
      "step 500 |w-w_next|=0.00110, grad=[[ 0.01531092 -0.12741353  0.00108446  0.04969782]]\n"
     ]
    }
   ],
   "source": [
    "def gradient_descent(X: np.array, y: np.array, eta=0.01, epsilon=0.001) -> np.array:\n",
    "    m = X.shape[1] # количество фичей\n",
    "    # инициализируем рандомом веса\n",
    "    w = np.random.random(m).reshape(1, -1)\n",
    "    w_next, weight_evolution, grad = eval_w_next(X, y, eta, w)\n",
    "    step = 0\n",
    "    # повторяем до сходимости вектора весов\n",
    "    while weight_evolution > epsilon:\n",
    "        w = w_next\n",
    "        w_next, weight_evolution, grad = eval_w_next(X, y, eta, w)\n",
    "        step += 1\n",
    "        if step % 100 == 0:\n",
    "            print(\"step %s |w-w_next|=%.5f, grad=%s\" % (step, weight_evolution, grad))\n",
    "    return w\n",
    "\n",
    "# добавляем тривиальный признак w_0, столбец из единиц. См. прошлый урок, почему так\n",
    "X_extended = np.hstack([\n",
    "    np.ones(X.shape[0]).reshape(-1,1),\n",
    "    X\n",
    "])\n",
    "w = gradient_descent(\n",
    "    X_extended,\n",
    "    y.reshape(-1, 1),\n",
    "    eta=0.008\n",
    ")"
   ]
  },
  {
   "cell_type": "code",
   "execution_count": 58,
   "metadata": {
    "colab": {
     "base_uri": "https://localhost:8080/"
    },
    "id": "jzQfGJIJQc2R",
    "outputId": "3c760e0e-a46e-4ce5-a0e0-1f4e91a72c2c"
   },
   "outputs": [
    {
     "data": {
      "text/plain": [
       "(100, 4)"
      ]
     },
     "execution_count": 58,
     "metadata": {},
     "output_type": "execute_result"
    }
   ],
   "source": [
    "X_extended.shape"
   ]
  },
  {
   "cell_type": "code",
   "execution_count": 60,
   "metadata": {
    "colab": {
     "base_uri": "https://localhost:8080/"
    },
    "id": "hhsL462DKBUa",
    "outputId": "eabb8eb3-85c0-4e94-af00-87f845fcecf9"
   },
   "outputs": [
    {
     "name": "stderr",
     "output_type": "stream",
     "text": [
      "2023-03-11 13:42:44,959 : INFO : Предсказания построены, accuracy = 0.98\n"
     ]
    }
   ],
   "source": [
    "def predict(X, w):\n",
    "    y_probas = sigmoid(X.dot(w.T))\n",
    "    y_hat = np.zeros_like(y_probas)\n",
    "    y_hat[np.where(y_probas >= 0.5)] = 1\n",
    "    y_hat[np.where(y_probas < 0.5)] = 0\n",
    "    y_hat = y_hat.flatten().astype(np.uint16)\n",
    "\n",
    "    return y_hat\n",
    "\n",
    "predicted_classes_our = predict(X_extended, w)\n",
    "accuracy = (predicted_classes_our == y).sum() / len(y)\n",
    "logger.info('Предсказания построены, accuracy = %.2f', accuracy)"
   ]
  },
  {
   "cell_type": "markdown",
   "metadata": {
    "id": "w2aXqIpKE_0n"
   },
   "source": [
    "Сраваним с \"коробочной\" реализацией"
   ]
  },
  {
   "cell_type": "code",
   "execution_count": 54,
   "metadata": {
    "colab": {
     "base_uri": "https://localhost:8080/"
    },
    "id": "XCcNQAp0xrwU",
    "outputId": "65185b00-64ae-4138-d120-5e6530b49f66"
   },
   "outputs": [
    {
     "name": "stderr",
     "output_type": "stream",
     "text": [
      "2023-03-11 13:37:03,182 : INFO : Предсказания построены, accuracy = 0.99\n"
     ]
    }
   ],
   "source": [
    "from sklearn.linear_model import LogisticRegression\n",
    "\n",
    "log_reg = LogisticRegression().fit(X, y)\n",
    "\n",
    "predicted_classes = log_reg.predict(X)\n",
    "accuracy = (predicted_classes == y).sum() / len(y)\n",
    "logger.info('Предсказания построены, accuracy = %.2f', accuracy)"
   ]
  },
  {
   "cell_type": "markdown",
   "metadata": {
    "id": "S45AjHgCafg3"
   },
   "source": [
    "Самостоятельное задание: посчитать используя библиотеку sklearn и визуализировать ROC-AUC для двух логистических регрессий выше."
   ]
  },
  {
   "cell_type": "code",
   "execution_count": 63,
   "metadata": {
    "id": "Rc3CmRjEzZIz"
   },
   "outputs": [
    {
     "data": {
      "image/png": "[encoded data removed]",
      "text/plain": [
       "<Figure size 432x288 with 1 Axes>"
      ]
     },
     "metadata": {
      "needs_background": "light"
     },
     "output_type": "display_data"
    },
    {
     "data": {
      "image/png": "[encoded data removed]",
      "text/plain": [
       "<Figure size 432x288 with 1 Axes>"
      ]
     },
     "metadata": {
      "needs_background": "light"
     },
     "output_type": "display_data"
    }
   ],
   "source": [
    "# --------- Ручная реализация --------\n",
    "\n",
    "from sklearn.metrics import roc_curve\n",
    "from sklearn.metrics import RocCurveDisplay\n",
    "from sklearn.metrics import precision_recall_curve\n",
    "from sklearn.metrics import PrecisionRecallDisplay\n",
    "\n",
    "\n",
    "fpr, tpr, _ = roc_curve(y, predicted_classes_our, pos_label=1)\n",
    "roc_display = RocCurveDisplay(fpr=fpr, tpr=tpr).plot()\n",
    "\n",
    "prec, recall, _ = precision_recall_curve(y, predicted_classes_our, pos_label=1)\n",
    "pr_display = PrecisionRecallDisplay(precision=prec, recall=recall).plot()"
   ]
  },
  {
   "cell_type": "code",
   "execution_count": 64,
   "metadata": {},
   "outputs": [
    {
     "data": {
      "image/png": "[encoded data removed]",
      "text/plain": [
       "<Figure size 432x288 with 1 Axes>"
      ]
     },
     "metadata": {
      "needs_background": "light"
     },
     "output_type": "display_data"
    },
    {
     "data": {
      "image/png": "[encoded data removed]",
      "text/plain": [
       "<Figure size 432x288 with 1 Axes>"
      ]
     },
     "metadata": {
      "needs_background": "light"
     },
     "output_type": "display_data"
    }
   ],
   "source": [
    "# --------- Коробочная версия --------\n",
    "\n",
    "\n",
    "fpr, tpr, _ = roc_curve(y, predicted_classes, pos_label=1)\n",
    "roc_display = RocCurveDisplay(fpr=fpr, tpr=tpr).plot()\n",
    "\n",
    "prec, recall, _ = precision_recall_curve(y, predicted_classes, pos_label=1)\n",
    "pr_display = PrecisionRecallDisplay(precision=prec, recall=recall).plot()"
   ]
  },
  {
   "cell_type": "markdown",
   "metadata": {
    "id": "ScEVSffCcQHq"
   },
   "source": [
    "Бонус уровень (+2 балла к этому заданию, если есть понижение): самостоятельно реализовать функцию roc_auc_score и сравнить ее с результатами выше."
   ]
  },
  {
   "cell_type": "code",
   "execution_count": 2,
   "metadata": {
    "id": "QabCl6M4czcU"
   },
   "outputs": [],
   "source": [
    "# --------- ВАШ КОД ТУТ --------\n",
    "\n",
    "\n",
    "\n",
    "\n",
    "\n",
    "# --------------------------------"
   ]
  },
  {
   "cell_type": "code",
   "execution_count": null,
   "metadata": {
    "id": "WG3isoK8cztt"
   },
   "outputs": [],
   "source": []
  }
 ],
 "metadata": {
  "colab": {
   "provenance": []
  },
  "kernelspec": {
   "display_name": "Python 3 (ipykernel)",
   "language": "python",
   "name": "python3"
  },
  "language_info": {
   "codemirror_mode": {
    "name": "ipython",
    "version": 3
   },
   "file_extension": ".py",
   "mimetype": "text/x-python",
   "name": "python",
   "nbconvert_exporter": "python",
   "pygments_lexer": "ipython3",
   "version": "3.9.15"
  }
 },
 "nbformat": 4,
 "nbformat_minor": 1
}
